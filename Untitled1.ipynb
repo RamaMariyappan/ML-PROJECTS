{
 "cells": [
  {
   "cell_type": "code",
   "execution_count": 1,
   "id": "bebc18d6",
   "metadata": {},
   "outputs": [
    {
     "name": "stdout",
     "output_type": "stream",
     "text": [
      "        ID Delivery_person_ID Delivery_person_Age Delivery_person_Ratings  \\\n",
      "0  0x4607     INDORES13DEL02                   37                     4.9   \n",
      "1  0xb379     BANGRES18DEL02                   34                     4.5   \n",
      "2  0x5d6d     BANGRES19DEL01                   23                     4.4   \n",
      "3  0x7a6a    COIMBRES13DEL02                   38                     4.7   \n",
      "4  0x70a2     CHENRES12DEL01                   32                     4.6   \n",
      "\n",
      "   Restaurant_latitude  Restaurant_longitude  Delivery_location_latitude  \\\n",
      "0            22.745049             75.892471                   22.765049   \n",
      "1            12.913041             77.683237                   13.043041   \n",
      "2            12.914264             77.678400                   12.924264   \n",
      "3            11.003669             76.976494                   11.053669   \n",
      "4            12.972793             80.249982                   13.012793   \n",
      "\n",
      "   Delivery_location_longitude  Order_Date Time_Orderd Time_Order_picked  \\\n",
      "0                    75.912471  19-03-2022    11:30:00          11:45:00   \n",
      "1                    77.813237  25-03-2022    19:45:00          19:50:00   \n",
      "2                    77.688400  19-03-2022    08:30:00          08:45:00   \n",
      "3                    77.026494  05-04-2022    18:00:00          18:10:00   \n",
      "4                    80.289982  26-03-2022    13:30:00          13:45:00   \n",
      "\n",
      "       Weatherconditions Road_traffic_density  Vehicle_condition  \\\n",
      "0       conditions Sunny                High                   2   \n",
      "1      conditions Stormy                 Jam                   2   \n",
      "2  conditions Sandstorms                 Low                   0   \n",
      "3       conditions Sunny              Medium                   0   \n",
      "4      conditions Cloudy                High                   1   \n",
      "\n",
      "  Type_of_order Type_of_vehicle multiple_deliveries Festival            City  \\\n",
      "0        Snack      motorcycle                    0      No           Urban    \n",
      "1        Snack         scooter                    1      No   Metropolitian    \n",
      "2       Drinks      motorcycle                    1      No           Urban    \n",
      "3       Buffet      motorcycle                    1      No   Metropolitian    \n",
      "4        Snack         scooter                    1      No   Metropolitian    \n",
      "\n",
      "  Time_taken(min)  \n",
      "0        (min) 24  \n",
      "1        (min) 33  \n",
      "2        (min) 26  \n",
      "3        (min) 21  \n",
      "4        (min) 30  \n"
     ]
    }
   ],
   "source": [
    "import pandas as pd\n",
    "import numpy as np\n",
    "import plotly.express as px\n",
    "\n",
    "data = pd.read_csv(\"train.csv\")\n",
    "print(data.head())"
   ]
  },
  {
   "cell_type": "code",
   "execution_count": 2,
   "id": "c1320fd8",
   "metadata": {},
   "outputs": [],
   "source": [
    "R = 6371\n",
    "\n",
    "# Convert degrees to radians\n",
    "def deg_to_rad(degrees):\n",
    "    return degrees * (np.pi/180)\n",
    "\n",
    "# Function to calculate the distance between two points using the haversine formula\n",
    "def distcalculate(lat1, lon1, lat2, lon2):\n",
    "    d_lat = deg_to_rad(lat2-lat1)\n",
    "    d_lon = deg_to_rad(lon2-lon1)\n",
    "    a = np.sin(d_lat/2)**2 + np.cos(deg_to_rad(lat1)) * np.cos(deg_to_rad(lat2)) * np.sin(d_lon/2)**2\n",
    "    c = 2 * np.arctan2(np.sqrt(a), np.sqrt(1-a))\n",
    "    return R * c\n",
    "  \n",
    "# Calculate the distance between each pair of points\n",
    "data['distance'] = np.nan\n",
    "\n",
    "for i in range(len(data)):\n",
    "    data.loc[i, 'distance'] = distcalculate(data.loc[i, 'Restaurant_latitude'], \n",
    "                                        data.loc[i, 'Restaurant_longitude'], \n",
    "                                        data.loc[i, 'Delivery_location_latitude'], \n",
    "                                        data.loc[i, 'Delivery_location_longitude'])"
   ]
  },
  {
   "cell_type": "code",
   "execution_count": 3,
   "id": "20cf0de5",
   "metadata": {},
   "outputs": [
    {
     "name": "stdout",
     "output_type": "stream",
     "text": [
      "        ID Delivery_person_ID Delivery_person_Age Delivery_person_Ratings  \\\n",
      "0  0x4607     INDORES13DEL02                   37                     4.9   \n",
      "1  0xb379     BANGRES18DEL02                   34                     4.5   \n",
      "2  0x5d6d     BANGRES19DEL01                   23                     4.4   \n",
      "3  0x7a6a    COIMBRES13DEL02                   38                     4.7   \n",
      "4  0x70a2     CHENRES12DEL01                   32                     4.6   \n",
      "\n",
      "   Restaurant_latitude  Restaurant_longitude  Delivery_location_latitude  \\\n",
      "0            22.745049             75.892471                   22.765049   \n",
      "1            12.913041             77.683237                   13.043041   \n",
      "2            12.914264             77.678400                   12.924264   \n",
      "3            11.003669             76.976494                   11.053669   \n",
      "4            12.972793             80.249982                   13.012793   \n",
      "\n",
      "   Delivery_location_longitude  Order_Date Time_Orderd  ...  \\\n",
      "0                    75.912471  19-03-2022    11:30:00  ...   \n",
      "1                    77.813237  25-03-2022    19:45:00  ...   \n",
      "2                    77.688400  19-03-2022    08:30:00  ...   \n",
      "3                    77.026494  05-04-2022    18:00:00  ...   \n",
      "4                    80.289982  26-03-2022    13:30:00  ...   \n",
      "\n",
      "       Weatherconditions Road_traffic_density Vehicle_condition  \\\n",
      "0       conditions Sunny                High                  2   \n",
      "1      conditions Stormy                 Jam                  2   \n",
      "2  conditions Sandstorms                 Low                  0   \n",
      "3       conditions Sunny              Medium                  0   \n",
      "4      conditions Cloudy                High                  1   \n",
      "\n",
      "   Type_of_order Type_of_vehicle multiple_deliveries Festival            City  \\\n",
      "0         Snack      motorcycle                    0      No           Urban    \n",
      "1         Snack         scooter                    1      No   Metropolitian    \n",
      "2        Drinks      motorcycle                    1      No           Urban    \n",
      "3        Buffet      motorcycle                    1      No   Metropolitian    \n",
      "4         Snack         scooter                    1      No   Metropolitian    \n",
      "\n",
      "  Time_taken(min)   distance  \n",
      "0        (min) 24   3.025149  \n",
      "1        (min) 33  20.183530  \n",
      "2        (min) 26   1.552758  \n",
      "3        (min) 21   7.790401  \n",
      "4        (min) 30   6.210138  \n",
      "\n",
      "[5 rows x 21 columns]\n"
     ]
    }
   ],
   "source": [
    "print(data.head())"
   ]
  },
  {
   "cell_type": "code",
   "execution_count": 23,
   "id": "9c432006",
   "metadata": {},
   "outputs": [
    {
     "name": "stdout",
     "output_type": "stream",
     "text": [
      "Model: \"sequential_2\"\n",
      "_________________________________________________________________\n",
      " Layer (type)                Output Shape              Param #   \n",
      "=================================================================\n",
      " lstm_4 (LSTM)               (None, 3, 128)            66560     \n",
      "                                                                 \n",
      " lstm_5 (LSTM)               (None, 64)                49408     \n",
      "                                                                 \n",
      " dense_4 (Dense)             (None, 25)                1625      \n",
      "                                                                 \n",
      " dense_5 (Dense)             (None, 1)                 26        \n",
      "                                                                 \n",
      "=================================================================\n",
      "Total params: 117619 (459.45 KB)\n",
      "Trainable params: 117619 (459.45 KB)\n",
      "Non-trainable params: 0 (0.00 Byte)\n",
      "_________________________________________________________________\n"
     ]
    }
   ],
   "source": [
    "     #splitting data\n",
    "from sklearn.model_selection import train_test_split\n",
    "x = np.array(data[[\"Delivery_person_Age\", \n",
    "                   \"Delivery_person_Ratings\", \n",
    "                   \"distance\"]])\n",
    "y = np.array(data[[\"Time_taken(min)\"]])\n",
    "xtrain, xtest, ytrain, ytest = train_test_split(x, y, \n",
    "                                                test_size=0.10, \n",
    "                                                random_state=42)\n",
    "ytrain_values = ytrain[:, 0]\n",
    "\n",
    "# Remove any non-numeric characters from the target values\n",
    "ytrain_values_cleaned = np.array([float(val.replace('(min)', '').strip()) for val in ytrain_values])\n",
    "\n",
    "# Update 'ytrain' with the cleaned target values\n",
    "ytrain[:, 0] = ytrain_values_cleaned\n",
    "\n",
    "# Now you can convert 'ytrain' to float32 data type\n",
    "ytrain = ytrain.astype('float32')\n",
    "\n",
    "# creating the LSTM neural network model\n",
    "from keras.models import Sequential\n",
    "from keras.layers import Dense, LSTM\n",
    "model = Sequential()\n",
    "model.add(LSTM(128, return_sequences=True, input_shape= (xtrain.shape[1], 1)))\n",
    "model.add(LSTM(64, return_sequences=False))\n",
    "model.add(Dense(25))\n",
    "model.add(Dense(1))\n",
    "model.summary()\n",
    "\n"
   ]
  },
  {
   "cell_type": "code",
   "execution_count": 1,
   "id": "e725a326",
   "metadata": {
    "scrolled": true
   },
   "outputs": [
    {
     "ename": "NameError",
     "evalue": "name 'xtrain' is not defined",
     "output_type": "error",
     "traceback": [
      "\u001b[1;31m---------------------------------------------------------------------------\u001b[0m",
      "\u001b[1;31mNameError\u001b[0m                                 Traceback (most recent call last)",
      "Cell \u001b[1;32mIn[1], line 1\u001b[0m\n\u001b[1;32m----> 1\u001b[0m xtrain \u001b[38;5;241m=\u001b[39m \u001b[43mxtrain\u001b[49m\u001b[38;5;241m.\u001b[39mastype(\u001b[38;5;124m'\u001b[39m\u001b[38;5;124mfloat32\u001b[39m\u001b[38;5;124m'\u001b[39m)\n\u001b[0;32m      2\u001b[0m ytrain \u001b[38;5;241m=\u001b[39m ytrain\u001b[38;5;241m.\u001b[39mastype(\u001b[38;5;124m'\u001b[39m\u001b[38;5;124mfloat32\u001b[39m\u001b[38;5;124m'\u001b[39m)\n\u001b[0;32m      3\u001b[0m \u001b[38;5;28;01mfrom\u001b[39;00m \u001b[38;5;21;01msklearn\u001b[39;00m\u001b[38;5;21;01m.\u001b[39;00m\u001b[38;5;21;01mpreprocessing\u001b[39;00m \u001b[38;5;28;01mimport\u001b[39;00m StandardScaler\n",
      "\u001b[1;31mNameError\u001b[0m: name 'xtrain' is not defined"
     ]
    }
   ],
   "source": [
    "\n",
    "xtrain = xtrain.astype('float32')\n",
    "ytrain = ytrain.astype('float32')\n",
    "from sklearn.preprocessing import StandardScaler\n",
    "\n",
    "scaler = StandardScaler()\n",
    "xtrain = scaler.fit_transform(xtrain)\n",
    "# training the model\n",
    "model.compile(optimizer='adam', loss='mean_squared_error')\n",
    "model.fit(xtrain, ytrain, batch_size)# training the model\n"
   ]
  },
  {
   "cell_type": "code",
   "execution_count": null,
   "id": "2045f9fc",
   "metadata": {},
   "outputs": [],
   "source": [
    "print(\"Food Delivery Time Prediction\")\n",
    "a = int(input(\"Age of Delivery Partner: \"))\n",
    "b = float(input(\"Ratings of Previous Deliveries: \"))\n",
    "c = int(input(\"Total Distance: \"))\n",
    "\n",
    "features = np.array([[a, b, c]])\n",
    "print(\"Predicted Delivery Time in Minutes = \", model.predict(features))"
   ]
  }
 ],
 "metadata": {
  "kernelspec": {
   "display_name": "Python 3 (ipykernel)",
   "language": "python",
   "name": "python3"
  },
  "language_info": {
   "codemirror_mode": {
    "name": "ipython",
    "version": 3
   },
   "file_extension": ".py",
   "mimetype": "text/x-python",
   "name": "python",
   "nbconvert_exporter": "python",
   "pygments_lexer": "ipython3",
   "version": "3.11.2"
  }
 },
 "nbformat": 4,
 "nbformat_minor": 5
}
